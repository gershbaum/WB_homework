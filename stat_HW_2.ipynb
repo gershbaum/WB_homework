{
 "cells": [
  {
   "cell_type": "markdown",
   "id": "af372882-7c0c-45ff-88b1-9c6bd5e7f363",
   "metadata": {},
   "source": [
    "# **ДЗ №2. Гершбаум С.**"
   ]
  },
  {
   "cell_type": "markdown",
   "id": "5e341b76-49d0-4907-900c-a0d7f09ff0fa",
   "metadata": {},
   "source": [
    "## **Задача 1.**"
   ]
  },
  {
   "cell_type": "markdown",
   "id": "f74d842c-42d3-4ee5-b040-ec1d05ae57ec",
   "metadata": {},
   "source": [
    "Гипотеза о том, что среднее напряжение действительно равняется 12 В - простая. Значит, ее мы записываем как нулевую, а в пару к ней подберем альтернативную.\n",
    "\n",
    "**Нулевая гипотеза:** среднее напряжение, выдаваемое батарейками, равняется 12 В $(\\mu_0 = 12)$.   \n",
    "$$H_0: \\mu = 12$$\n",
    "\n",
    "**Альтернативная гипотеза:** среднее напряжение батареек не равняется 12 В.   $$H_A: \\mu \\neq 12$$"
   ]
  },
  {
   "cell_type": "markdown",
   "id": "a9cf9e12-92fa-4e4f-a97f-19ab999cca11",
   "metadata": {},
   "source": [
    "Наша выборка:\n",
    "$$ X = \\{12.9, 11.6, 13.5, 13.9, 12.1, 11.9, 13.0\\} $$"
   ]
  },
  {
   "cell_type": "markdown",
   "id": "dfef23f8-a06b-46d8-a227-a9e6d0424515",
   "metadata": {},
   "source": [
    "Примем уровень значимости:\n",
    "$$ \\alpha = 0.05 $$"
   ]
  },
  {
   "cell_type": "markdown",
   "id": "3ab403ef-4b19-4701-bf7e-dd35129c3f68",
   "metadata": {},
   "source": [
    "Для проверки гипотезы о среднем будем использовать *одновыборочный критерий Стьюдента (t-критерий)*. Для данного критерия статистика выглядит следующим образом:   \n",
    "$$ T = \\frac{(\\overline{X} - \\mu_0) \\sqrt{n-1}}{S}, $$ \n",
    "$ \\displaystyle \\overline{X} = \\frac{1}{n} \\sum_{i = 1}^{n} X_i \\quad $ - выборочное среднее,\n",
    "\n",
    "$ \\displaystyle S^2 = \\frac{1}{n} \\sum_{i = 1}^{n} (X_i - \\overline{X})^2 \\quad $ - выборочная дисперсия.\n"
   ]
  },
  {
   "cell_type": "markdown",
   "id": "89ab57ea-acdd-4626-9bf5-04b8665ae7c3",
   "metadata": {},
   "source": [
    "Условие использования критерия Стьюдента - **выборочое среднее $\\overline{X}$ должно иметь нормальное распределение.** $\\overline{X}$ нормально распределено тогда, наблюдения сами $X_i$ нормально распределены. Хоть в нашей задаче наблюдений всего 7, будет \"хорошим тоном\" проверить их на нормальность при помощи теста Шапиро-Уилка:"
   ]
  },
  {
   "cell_type": "code",
   "execution_count": 3,
   "id": "e25eac0f-fb44-498f-aef6-41ebad7d2c9c",
   "metadata": {},
   "outputs": [],
   "source": [
    "import numpy as np\n",
    "from scipy import stats\n",
    "from scipy.stats import shapiro\n",
    "import matplotlib.pyplot as plt"
   ]
  },
  {
   "cell_type": "code",
   "execution_count": 7,
   "id": "47a63655-24c9-4958-8835-02a4c703b4d9",
   "metadata": {},
   "outputs": [
    {
     "data": {
      "text/plain": [
       "ShapiroResult(statistic=np.float64(0.9461528332649155), pvalue=np.float64(0.694601251101445))"
      ]
     },
     "execution_count": 7,
     "metadata": {},
     "output_type": "execute_result"
    }
   ],
   "source": [
    "voltages = np.array([12.9, 11.6, 13.5, 13.9, 12.1, 11.9, 13.0])\n",
    "shapiro(voltages)"
   ]
  },
  {
   "cell_type": "markdown",
   "id": "dd2db3a7-926c-42ed-9959-a95b674d23e5",
   "metadata": {},
   "source": [
    "p-value получилось значительно выше уровня значимости $\\alpha = 0.05$, поэтому мы не можем отвергнуть гипотезу о нормальности распределения наблюдений, следовательно, можем спокойно использовать критерий Стьюдента для проверки гипотезы о среднем."
   ]
  },
  {
   "cell_type": "markdown",
   "id": "bd6517de-4cda-40b2-955f-acb7ce9b4fa1",
   "metadata": {},
   "source": [
    "Для проверки гипотезы воспользуемся встроенной функцией вычисления статистики и p-value для одновыборочного критерия Стьюдента:"
   ]
  },
  {
   "cell_type": "code",
   "execution_count": 10,
   "id": "1ac4f3e0-8df4-4c6c-9a3b-e91dc08e895e",
   "metadata": {},
   "outputs": [
    {
     "data": {
      "text/plain": [
       "TtestResult(statistic=np.float64(2.1578017974978794), pvalue=np.float64(0.07430190210562303), df=np.int64(6))"
      ]
     },
     "execution_count": 10,
     "metadata": {},
     "output_type": "execute_result"
    }
   ],
   "source": [
    "mu0 = 12\n",
    "stats.ttest_1samp(voltages, mu0)"
   ]
  },
  {
   "cell_type": "markdown",
   "id": "5fe5c73d-1185-4fcb-9001-64bfb77a710a",
   "metadata": {},
   "source": [
    "$ p \\approx 0.074, \\,\\,\\, \\alpha < p $. Следовательно, мы не можем отвергнуть нулевую гипотезу $ H_0 $ и поэтому она принимается на уровне значимости $\\alpha = 0.05$."
   ]
  },
  {
   "cell_type": "markdown",
   "id": "d415ea1d-2fe4-4d0d-8f4f-182f4c5a9412",
   "metadata": {},
   "source": [
    "**Заключение**: в данной задаче был поставлен вопрос \"можно ли считать, что среднее напряжение равно 12 В?\". Эта гипотеза простая, следовательно, она записывается как нулевая. Альтернативная гипотеза была сформулирована как \"среднее напряжение **не** равно 12 В\", поэтому в таком случае за p-value мы принимаем полученное значение, которое по умолчанию вычисляется для двусторонней критической области $ (p \\approx 0.074) $. На основе полученного p-value мы сделали вывод, что не можем отвергнуть нулевую гипотезу на уровне значимости $\\alpha = 0.05$. Однако, если бы мы сформулировали альтернативную гипотезу иначе, например, \"среднее напряжение **больше** 12 В\" или \"среднее напряжение **меньше** 12 В\", то в таком случае p-value необходимо было бы поделить на 2, поскольку мы бы имели дело с односторонней критической областью. При таком раскладе мы бы отвергли нулевую гипотезу в пользу альтернативной на уровне значимости $\\alpha = 0.05$, поскольку получили бы $ p \\approx 0.037 $, что меньше $ 0.05 $."
   ]
  },
  {
   "cell_type": "markdown",
   "id": "fb452022-8c36-4231-adc8-0cc2bc579214",
   "metadata": {},
   "source": [
    "## **Задача 2.**"
   ]
  },
  {
   "cell_type": "markdown",
   "id": "81edf523-a465-48d2-a6e1-8e7a2294d5bc",
   "metadata": {},
   "source": [
    "Данная задача - одновыборочная, а наблюдения - парные, поскольку в обоих методах используются одни и те же образцы. В данном случае будем проверять гипотезу о равенстве средних для парных наблюдений. Сформулируем гипотезы:"
   ]
  },
  {
   "cell_type": "markdown",
   "id": "69317909-9f28-4ef7-8859-9a9397823dc5",
   "metadata": {},
   "source": [
    "**Нулевая гипотеза:** показания двух методов в среднем не отличаются (разница показаний $ \\mu_0 $ равна 0).   \n",
    "$$H_0: \\mu_0 = 0$$\n",
    "\n",
    "**Альтернативная гипотеза:** один из методов может давать более высокие показания, чем другой.   \n",
    "$$H_A: \\mu_0 \\neq 0$$"
   ]
  },
  {
   "cell_type": "markdown",
   "id": "02565ed7-e948-4c72-97c6-fe7bb024ede5",
   "metadata": {},
   "source": [
    "Парные наблюдения:\n",
    "$$ X = \\{23.1, 23.2, 26.5, 26.6, 27.1, 48.3, 40.5, 25.0, 38.4, 23.5\\} $$\n",
    "$$ Y = \\{22.7, 23.6, 27.1, 27.4, 27.4, 46.8, 40.4, 24.9, 38.1, 23.8\\} $$\n",
    "Разность наблюдений:\n",
    "$$ D = X - Y = \\{0.4, −0.4, −0.6, −0.8, −0.3, 1.5, 0.1, 0.1, 0.3, −0.3\\} $$"
   ]
  },
  {
   "cell_type": "markdown",
   "id": "579a43f0-2544-4eac-b047-628c07d609d1",
   "metadata": {},
   "source": [
    "Уровень значимости: $$ \\alpha = 0.05 $$"
   ]
  },
  {
   "cell_type": "markdown",
   "id": "f55b8d63-27a8-40d6-a549-c60df0cf88bf",
   "metadata": {},
   "source": [
    "Аналогично предыдущей задаче будем использовать *критерий Стьюдента*, только уже *для парных выборок*:\n",
    "$$ T = \\frac{\\overline{D} \\sqrt{n-1}}{S_D}, $$ \n",
    "$ \\displaystyle T $ - статистика критерия,\n",
    "\n",
    "$ \\displaystyle \\overline{D}$ - выборочное среднее разности, $ \\quad \\displaystyle \\overline{D} = \\frac{1}{n} \\sum_{i = 1}^{n} D_i $, \n",
    "\n",
    "$ \\displaystyle S_D$ - выборочное стандартное отклонение разности, $ \\quad \\displaystyle S_D^2 = \\frac{1}{n} \\sum_{i = 1}^{n} (D_i - \\overline{D})^2 $ - выборочная дисперсия."
   ]
  },
  {
   "cell_type": "markdown",
   "id": "27a15c9f-206c-4073-88b4-2c6ecd9ba280",
   "metadata": {},
   "source": [
    "Проверим выборку на нормальность:"
   ]
  },
  {
   "cell_type": "code",
   "execution_count": 4,
   "id": "3417cc21-fe39-4ec5-b1bb-6fc4d73a9e65",
   "metadata": {},
   "outputs": [
    {
     "data": {
      "text/plain": [
       "ShapiroResult(statistic=np.float64(0.8998483579792755), pvalue=np.float64(0.21825780478589757))"
      ]
     },
     "execution_count": 4,
     "metadata": {},
     "output_type": "execute_result"
    }
   ],
   "source": [
    "diffs = np.array([0.4, -0.4, -0.6, -0.8, -0.3, 1.5, 0.1, 0.1, 0.3, -0.3])\n",
    "shapiro(diffs)"
   ]
  },
  {
   "cell_type": "markdown",
   "id": "6555f07c-627f-4766-80c7-4622654f7673",
   "metadata": {},
   "source": [
    "$ p \\approx 0.218$, что больше $ 0.05$. Оснований для отклонения гипотезы о нормальности распределения данных нет, но p-value получилось относительно небольшим. Интересно проверить нормальность визуально, например, с помощью графика квантиль-квантиль (Q-Q Plots). Он поможет оценить, является ли имеющийся набор данных  приблизительно нормально распределённым:"
   ]
  },
  {
   "cell_type": "code",
   "execution_count": 12,
   "id": "d36384d9-1267-43bf-85e9-141170619611",
   "metadata": {},
   "outputs": [
    {
     "data": {
      "image/png": "[encoded data removed]",
      "text/plain": [
       "<Figure size 1000x600 with 1 Axes>"
      ]
     },
     "metadata": {},
     "output_type": "display_data"
    }
   ],
   "source": [
    "plt.figure(figsize=(10, 6))\n",
    "stats.probplot(diffs, dist=\"norm\", plot=plt)  # сравниваем с нормальным распределением\n",
    "plt.show()"
   ]
  },
  {
   "cell_type": "markdown",
   "id": "117e7e16-313a-46d8-b683-f7cb51db9b28",
   "metadata": {},
   "source": [
    "Есть небольшие отклонения, нормальность не идеальна, но в целом точки лежат близко к теоретической прямой. Оснований для отвержения гипотезы о нормальности данных нет, поэтому можем использовать критерий Стьюдента."
   ]
  },
  {
   "cell_type": "code",
   "execution_count": 21,
   "id": "b7578c32-e064-4a72-a460-5b97f6e031d8",
   "metadata": {},
   "outputs": [
    {
     "data": {
      "text/plain": [
       "TtestResult(statistic=np.float64(0.0), pvalue=np.float64(1.0), df=np.int64(9))"
      ]
     },
     "execution_count": 21,
     "metadata": {},
     "output_type": "execute_result"
    }
   ],
   "source": [
    "stats.ttest_1samp(diffs, 0)"
   ]
  },
  {
   "cell_type": "code",
   "execution_count": 17,
   "id": "5952e869-852e-495e-8487-eed159101440",
   "metadata": {},
   "outputs": [
    {
     "data": {
      "text/plain": [
       "TtestResult(statistic=np.float64(1.7154884978678027e-15), pvalue=np.float64(0.9999999999999987), df=np.int64(9))"
      ]
     },
     "execution_count": 17,
     "metadata": {},
     "output_type": "execute_result"
    }
   ],
   "source": [
    "m1 = np.array([23.1, 23.2, 26.5, 26.6, 27.1, 48.3, 40.5, 25.0, 38.4, 23.5])\n",
    "m2 = np.array([22.7, 23.6, 27.1, 27.4, 27.4, 46.8, 40.4, 24.9, 38.1, 23.8])\n",
    "stats.ttest_rel(m1, m2)"
   ]
  },
  {
   "cell_type": "markdown",
   "id": "dce3f3cd-603a-4948-9520-7ba30fc5f5d2",
   "metadata": {},
   "source": [
    "T-статистика практически равна $0$, а p-value практически $1$ $ (\\gg 0.05) $. Это говорит о том, что мы не можем отвергнуть нулевую гипотезу $ H_0 $ и поэтому она принимается на уровне значимости $\\alpha = 0.05$. Средняя разница между показаниями методов статистически не значима."
   ]
  },
  {
   "cell_type": "markdown",
   "id": "9713fc27-533f-493e-92d6-e4ffdf70afe6",
   "metadata": {},
   "source": [
    "## **Задача 3.**"
   ]
  },
  {
   "cell_type": "markdown",
   "id": "7562fba1-e740-4e2f-af32-26f6e263257a",
   "metadata": {},
   "source": [
    "В данном случае выборки - независимые. Следовательно, будем проверять гипотезу о равенстве средних для независимых выборок. эта гипотеза проверяется с помощью *критерия Стьюдента для независимых выборок*. Сформулируем предположения:\n",
    "\n",
    "**1.** Наблюдения - независимые (независимы как наблюдения внутри каждой из выборок, так и выборки между собой).\n",
    "\n",
    "**2.** Математические ожидания:\n",
    "$$ E(X_i) = \\mu_X; \\,\\,\\,  E(Y_i) = \\mu_Y. $$\n",
    "Наблюдения считаются не только независимыми, но и одинаково распределенными. Соответственно, мат. ожидания для всех $ X_i $ и отдельно для $ Y_i $ будут одинаковыми.\n",
    "\n",
    "**3.** Выборочые средние $\\overline{X}$ и $\\overline{Y}$ распределены нормально. Это требование выполняется когда:\n",
    "   - либо сами наблюдения $ X_i, Y_i $ распределены нормально;\n",
    "   - либо работает ЦПТ (если наблюдений много).\n",
    "\n",
    "Гипотезы:\n",
    "\n",
    "**Нулевая гипотеза:** среднее артериальное давление у горожан и жителей сельской местности одинаково.\n",
    "$$H_0: \\mu_X = \\mu_Y$$\n",
    "\n",
    "**Альтернативная гипотеза:** горожане имеют в среднем более высокое артериальное давление, чем селяне.\n",
    "$$H_A: \\mu_X > \\mu_Y$$"
   ]
  },
  {
   "cell_type": "markdown",
   "id": "e43cb7f0-8746-495d-b23f-053eb8b829b6",
   "metadata": {},
   "source": [
    "Имеющиеся выборки ($X_i$ - показатели горожан, $Y_i$ - показатели селян):\n",
    "$$ X = \\{132, 111, 119, 138, 200, 131, 138, 170, 159, 140\\} $$\n",
    "$$ Y = \\{115, 190, 127, 155, 148, 121, 116, 121, 197\\} $$"
   ]
  },
  {
   "cell_type": "markdown",
   "id": "f053a48e-9332-4909-98a5-6abae75a4630",
   "metadata": {},
   "source": [
    "$ \\alpha = 0.05 $ - уровень значимости."
   ]
  },
  {
   "cell_type": "markdown",
   "id": "54c18dd6-5868-4daf-84aa-3f4ea4a43e06",
   "metadata": {},
   "source": [
    "Статистика критерия выглядит следующим образом:\n",
    "$$ T = \\frac{\\overline{X} - \\overline{Y}}{\\displaystyle \\sqrt{\\frac{S_X^2}{m} + \\frac{S_Y^2}{n}}}, $$ \n",
    "\n",
    "$ \\overline{X},\\, \\overline{Y} $ - выборочные средние: \n",
    "$$ \\overline{X} = \\frac{1}{m} \\sum_{i = 1}^{m} X_i, \\,\\,\\,\\,\\, \\overline{Y} = \\frac{1}{n} \\sum_{i = 1}^{n} Y_i \\,; $$\n",
    "\n",
    "$ S_X^2,\\, S_Y^2 $ - выборочные дисперсии:\n",
    "$$ S_X^2 = \\frac{1}{m} \\sum_{i = 1}^{m} (X_i - \\overline{X})^2, \\,\\,\\,\\,\\, S_Y^2 = \\frac{1}{n} \\sum_{i = 1}^{n} (Y_i - \\overline{Y})^2 \\,; $$\n",
    "\n",
    "$ m,\\, n $ - количество наблюдений."
   ]
  },
  {
   "cell_type": "markdown",
   "id": "38344330-1f4b-43a4-8e44-f3ceea96188d",
   "metadata": {},
   "source": [
    "В случае верности нулевой гипотезы $ H_0 $ статистика $ T $ имеет распределение Стьюдента с $ k $ степенями свободы:\n",
    "$$ T \\bigg|_{H_0} \\sim t(k),$$\n",
    "\n",
    "где $ \\,\\, k = \\frac{\\left (\\displaystyle \\frac{S_X^2}{m} + \\frac{S_Y^2}{n} \\right)^2}{\\displaystyle \\frac{\\left (\\displaystyle \\frac{S_X^2}{m} \\right)^2}{m-1} + \\frac{\\left (\\displaystyle \\frac{S_Y^2}{n} \\right)^2}{n-1}} $"
   ]
  },
  {
   "cell_type": "markdown",
   "id": "d0c444df-5861-49c2-b8f2-94001cd70473",
   "metadata": {},
   "source": [
    "Проверка на нормальность:"
   ]
  },
  {
   "cell_type": "code",
   "execution_count": 23,
   "id": "7e9c01c2-e946-4b38-a8e2-aa5b2f012fa0",
   "metadata": {},
   "outputs": [
    {
     "data": {
      "text/plain": [
       "np.float64(0.281440686937816)"
      ]
     },
     "execution_count": 23,
     "metadata": {},
     "output_type": "execute_result"
    }
   ],
   "source": [
    "city = np.array([132, 111, 119, 138, 200, 131, 138, 170, 159, 140])\n",
    "shapiro(city).pvalue"
   ]
  },
  {
   "cell_type": "code",
   "execution_count": 24,
   "id": "ca189edf-00e8-422b-95d5-75de9babbc96",
   "metadata": {},
   "outputs": [
    {
     "data": {
      "text/plain": [
       "np.float64(0.04313951145476073)"
      ]
     },
     "execution_count": 24,
     "metadata": {},
     "output_type": "execute_result"
    }
   ],
   "source": [
    "village = np.array([115, 190, 127, 155, 148, 121, 116, 121, 197])\n",
    "shapiro(village).pvalue"
   ]
  },
  {
   "cell_type": "markdown",
   "id": "95b2ff33-1b7c-49af-8ad3-8330224398a0",
   "metadata": {},
   "source": [
    "p-value при проверке на нормальность наблюдений у селян составил $\\approx 0.431$, что меньше $0.05$. Сравним визуально с нормальным распределением:"
   ]
  },
  {
   "cell_type": "code",
   "execution_count": 42,
   "id": "4dc8ebca-8117-43e6-a1a4-ea470b3db736",
   "metadata": {},
   "outputs": [
    {
     "data": {
      "image/png": "[encoded data removed]",
      "text/plain": [
       "<Figure size 1000x600 with 1 Axes>"
      ]
     },
     "metadata": {},
     "output_type": "display_data"
    }
   ],
   "source": [
    "plt.figure(figsize=(10, 6))\n",
    "stats.probplot(village, dist=\"norm\", plot=plt) \n",
    "plt.show()"
   ]
  },
  {
   "cell_type": "markdown",
   "id": "a69f9147-6783-4cf0-9c4a-75e5b4260ca1",
   "metadata": {},
   "source": [
    "Отклонения есть, и, например, в сравнении с графиком, который был построен ранее (в предыдущей задаче), они кажутся более серьезными. \n",
    "Но! p-value на самом деле очень близок к $0.05$, и, как мы видим, точки расположены по направленнии теоретической прямой. Гипотеза о нормальности распределения наблюдений у селян отвергается на уровне значимости $\\alpha = 0.05$ вовсе неуверенно. Скорее всего, это связано с тем, что наблюдений очень мало (меньше 10). В данной ситуации стоило бы взять больше наблюдений, но такой возможности в нашем случае нет. В качестве альтернативы можно использовать *критерий Манна-Уитни*, который не требует нормальности. В таком случае объединенная выборка из $X_i$ и $Y_i$ ранжируется:\n",
    "$$W = \\sum_{i = 1}^{m} rank(X_i)$$\n",
    "Статисика критерия:\n",
    "$$\\tilde{W} = \\frac{W - E(W)}{\\sqrt{var(W)}},$$\n",
    "\n",
    "$\\displaystyle E(W) = \\frac{m}{2}(m + n + 1)$ - мат. ожидание;\n",
    "\n",
    "$\\displaystyle var(W) = \\frac{mn}{12}(m + n + 1)$ - дисперсия."
   ]
  },
  {
   "cell_type": "markdown",
   "id": "2077b763-5ec1-4caf-ab9e-a3e3c59d8b65",
   "metadata": {},
   "source": [
    "В таком случае гипотезы при использовании критерия Манна-Уитни будут выглядеть следующим образом:\n",
    "\n",
    "**Нулевая гипотеза:** законы распределения наблюдений $X_i$ и $Y_i$ не отличаются друг от друга (сдвиг $\\theta$ отсутствует).\n",
    "$$H_0: \\theta = 0$$\n",
    "\n",
    "**Альтернативная гипотеза:** распределение $X_i$ сдвинуто вправо относительно распределения $Y_i$.\n",
    "$$H_A: \\theta > 0$$"
   ]
  },
  {
   "cell_type": "code",
   "execution_count": 46,
   "id": "98663dee-8e1f-415b-b53f-b51842bf3d97",
   "metadata": {},
   "outputs": [
    {
     "data": {
      "text/plain": [
       "MannwhitneyuResult(statistic=np.float64(50.0), pvalue=np.float64(0.3565312487796153))"
      ]
     },
     "execution_count": 46,
     "metadata": {},
     "output_type": "execute_result"
    }
   ],
   "source": [
    "stats.mannwhitneyu(city, village, alternative='greater') # одностор. крит. область"
   ]
  },
  {
   "cell_type": "markdown",
   "id": "d6c5a68c-4bff-49f9-b2a5-98003d140814",
   "metadata": {},
   "source": [
    "$p \\approx 0.357$, что выше уровня значимости $\\alpha = 0.05$. Следовательно, на уровне значимости $0.05$ мы не можем отвергнуть нулевую гипотезу о том, что распределения наблюдений для горожан и селян не сдвинуты друг относительно друга (разница в распределении (медианах) артериального давления у горожан и селян статистически не значима)."
   ]
  },
  {
   "cell_type": "markdown",
   "id": "781d6dbe-07d0-4f3f-b9cd-504dc2569391",
   "metadata": {},
   "source": [
    "---\n",
    "Если же все-таки считать обе группы наблюдений нормально распределенными (поскольку p-значение очень близко к $0.05$, но больше наблюдений мы взять не можем), взглянем на результаты t-теста:"
   ]
  },
  {
   "cell_type": "code",
   "execution_count": 38,
   "id": "b2b2c3a1-8eba-4363-b155-a8c696aad6b8",
   "metadata": {},
   "outputs": [
    {
     "name": "stdout",
     "output_type": "stream",
     "text": [
      "0.03681832098940068 0.48554266145506586\n"
     ]
    }
   ],
   "source": [
    "# 1. Закодим вручную\n",
    "m = len(city)\n",
    "n = len(village)\n",
    "s2x = city.var()\n",
    "s2y = village.var()\n",
    "T = (city.mean() - village.mean()) / (s2x/m + s2y/n)**0.5   # статистика\n",
    "df = round((s2x/m + s2y/n)**2/((s2x/m)**2/(m-1) + (s2y/n)**2/(n-1)))   # число степеней свободы, округляем до целого\n",
    "st = stats.t(df)\n",
    "p = 1 - st.cdf(T)   # правая крит. область\n",
    "print(T, p)"
   ]
  },
  {
   "cell_type": "code",
   "execution_count": 26,
   "id": "43c73318-0b3b-487c-8be3-af59b42845b8",
   "metadata": {},
   "outputs": [
    {
     "data": {
      "text/plain": [
       "np.float64(0.486178812200461)"
      ]
     },
     "execution_count": 26,
     "metadata": {},
     "output_type": "execute_result"
    }
   ],
   "source": [
    "# 2. Готовое решение\n",
    "stats.ttest_ind(city, village).pvalue/2"
   ]
  },
  {
   "cell_type": "markdown",
   "id": "9666ee90-7c64-4611-af33-57633ca22af1",
   "metadata": {},
   "source": [
    "Полученные значения чуть отличаются (на шесть тысячных) из-за того, что встроенный метод считает дисперсии по умолчанию одинаковыми, в то время как мы считаем их разными (при подсчете вручную). Но в обоих случаях $p > 0.05$, поэтому мы не можем отвергнуть нулевую гипотезу о том, что среднее артериальное давление у горожан и жителей сельской местности одинаково. Ответ на вопрос в условии задачи (можно ли считать верной выдвинутую гипотезу о том, что горожане имеют в среднем более высокое систолическое артериальнное давление, чем селяне) - выдвинутую гипотезу нельзя считать верной."
   ]
  },
  {
   "cell_type": "markdown",
   "id": "f4a859b6-1b12-4be6-ad26-8038a644d64e",
   "metadata": {},
   "source": [
    "## **Задача 4.**"
   ]
  },
  {
   "cell_type": "markdown",
   "id": "e9f6beff-4d59-4012-b2da-2197ac1ee643",
   "metadata": {},
   "source": [
    "В данной задаче мы можем проверить гипотезу о равенстве долей мужчин/женщин. У нас есть данные о пропорциях и исходной вероятности (вероятности успеха), но нет конкретных данных о смертности, поэтому делать вывод о ней в свете имеющихся у нас данных не совсем корректно (причины изменения пропорций неизвестны). Проверим гипотезу о равенстве доли мужчин в случайной выборке с ожидаемым значением. В данном контексте достаточно проверить только одну из долей, поскольку доли мужчин и женщин - взаимозависимые величины, и проверка одной из них автоматически дает информацию о другой."
   ]
  },
  {
   "cell_type": "markdown",
   "id": "da56f458-8986-4d7d-8cd3-117ade0229e1",
   "metadata": {},
   "source": [
    "Изложим гипотезы.\n",
    "\n",
    "**Нулевая гипотеза:** доля мужчин в случайной выборке $(p = 0.50)$ совпадает с долей при рождении $(p_0 = 0.52)$ (тогда доля женщин равна $0.48$).\n",
    "$$H_0: p = p_0$$\n",
    "\n",
    "**Альтернативная гипотеза:** доля мужчин в выборке не совпадает с их долей при рождении (аналогично для доли женщин).\n",
    "$$H_A: p \\neq p_0$$\n"
   ]
  },
  {
   "cell_type": "markdown",
   "id": "cd8d8dca-d416-4cfa-a3cb-ed1a03565895",
   "metadata": {},
   "source": [
    "Уровень значимости выбираем $\\alpha = 0.05$."
   ]
  },
  {
   "cell_type": "markdown",
   "id": "53371a2f-6484-4980-85e3-37cbd34c438a",
   "metadata": {},
   "source": [
    "Какие данные у нас есть?\n",
    "   - число наблюдений: $n = 5000 \\,$;\n",
    "   - число \"успехов\" (количество мужчин в выборке): $m = 2500 \\,$;\n",
    "   - вероятность \"успеха\": $p_0 = 0.52 \\,$."
   ]
  },
  {
   "cell_type": "markdown",
   "id": "77f3106d-c64c-41df-90de-2a790d997d96",
   "metadata": {},
   "source": [
    "Будем использовать *биномиальный критерий*, статистика которого выглядит следующим образом:\n",
    "$$ T = \\frac{m - np_0}{\\sqrt{np_0(1-p_0)}} $$"
   ]
  },
  {
   "cell_type": "markdown",
   "id": "f41417b8-9cae-402a-9cf8-1691533ad0c0",
   "metadata": {},
   "source": [
    "В нашем случае количество наблюдений - достаточно большое, поэтому в случае верности нулевой гипотезы статистика $T$ имеет стандартное нормальное распределение:\n",
    "$$ T \\bigg|_{H_0} \\sim N(0; 1)$$"
   ]
  },
  {
   "cell_type": "code",
   "execution_count": 21,
   "id": "88a7985c-e1eb-43ac-b9ff-447c8c8a9b6b",
   "metadata": {},
   "outputs": [
    {
     "data": {
      "text/plain": [
       "BinomTestResult(k=2500, n=5000, alternative='two-sided', statistic=0.5, pvalue=0.004849502159545284)"
      ]
     },
     "execution_count": 21,
     "metadata": {},
     "output_type": "execute_result"
    }
   ],
   "source": [
    "m = 2500\n",
    "n = 5000\n",
    "p0 = 0.52\n",
    "stats.binomtest(m, n, p0)"
   ]
  },
  {
   "cell_type": "markdown",
   "id": "981b15e2-6573-4bb1-a8fe-288c7285bf54",
   "metadata": {},
   "source": [
    "Результат: $p \\approx 0.0485 \\,\\,(p < \\alpha)$. Значение очень близко к уровню значимости, и стоило бы один раз взять наблюдений побольше. Однако в свете имеющихся у нас данных можно сказать, что на уровне значимости $\\alpha = 0.05$ нулевая гипотеза $H_0$ отвергается в пользу альтернативной $H_A$ о том, что доля мужчин в случайной выборке отличается от их доли при рождении (для женщин - аналогично). Различие в долях мужчин и женщин в случайной выборке из 5000 человек и долях при рождении статистически значимо."
   ]
  },
  {
   "cell_type": "markdown",
   "id": "648985bc-d772-43b2-a1b2-753f41352e35",
   "metadata": {},
   "source": [
    "## **Задача 5.**"
   ]
  },
  {
   "cell_type": "markdown",
   "id": "564bbe4f-30b7-4bcc-b7bf-fc440e4f939f",
   "metadata": {},
   "source": [
    "---\n",
    " - $X_1 = 17, \\,\\, X_2 = 16, \\,\\, p = 0.001$\n",
    " - $X_1 = 17, \\,\\, X_2 = 36, \\,\\, p = 0.8$\n",
    "---"
   ]
  },
  {
   "cell_type": "markdown",
   "id": "951270d1-8ed9-435b-bd9d-cac740d443be",
   "metadata": {},
   "source": [
    "**1.** Для применения критерия Стьюдента предъявляется следующее требование: **выборочные средние должны иметь нормальное распределение.** Оно выполняется, когда либо сами наблюдения распределены нормально, либо данных достаточно много, что в силу ЦПТ средние распределены нормально.\n",
    "\n",
    "В первом эксперименте разница между средними составляет $1$, а различия все равно оказались значимыми. Это может говорить о том, что распределение наблюдений в выборках близко к нормальному, что повышает точность результата работы t-критерия.\n",
    "\n",
    "Во втором эксперименте разница между средними составляет уже $19$, но $p = 0.8$. Это может быть связано с тем, что распределение данных не близко к нормальному (например, есть выбросы). В таком случае t-тест работает ннекорректно, поскольку требование о нормальности не выполняется.\n",
    "\n",
    "**2.** На корректность результатов критерия Стьюдента влияет **объем выборки**.\n",
    "\n",
    "Как было отмечено, в первом эксперименте разница между средними небольшая, но она все равно значима. Это может говорить о большом объеме выборок. Вспомним, как выглядит статистика критерия Стьюдента для независимых выборок:\n",
    "$$ T = \\frac{\\overline{X} - \\overline{Y}}{\\displaystyle \\sqrt{\\frac{S_X^2}{m} + \\frac{S_Y^2}{n}}} $$\n",
    "\n",
    "Знаменатель представляет собой не что иное, как *SE* - стандартную ошибку для двух средних. При увеличении множителей $m, n$ (объемы выборок) стандартная ошибка уменьшается, что влечет за собой возможные увеличение t-статистики и уменьшение p-value.\n",
    "\n",
    "Во втором эксперименте наоборот - разница между средними больше, и она не значима. Возможно, объем выборок мал, что сказывается на стандартой ошибке - она становится большой (когда наблюдений мало, мощность критерия в целом невысокая). Статистика уменьшается, и даже несмотря на большую разницу между средними, она все равно оказывается статистически не значимой $(p \\gg 0.05)$.\n",
    "\n",
    "**3.** На статистику критерия также влияют **выборочные дисперсии**. \n",
    "\n",
    "На результат в первом эксперименте могло повлиять то, что диспресии оказались небольшими. Аналогично тому, как объем выборки влияет на t-статистику, только в этом случае: низкая дисперсия $\\rightarrow$ уменьшение стандартной ошибки $\\rightarrow$ увеличение статистики критерия $\\rightarrow$ уменьшение p-value. Даже если разница между средними мала (= 1), различие может оказаться статистически значимым.\n",
    "\n",
    "Во 2-м эксперименте дисперсия могла оказаться высокой, что привело к тому, что разница между средними становится статистически не значимой (несмотря на ее величину).\n",
    "\n",
    "**4.** Такие результаты могут быть связаны с **выбросами**, поскольку они напрямую влияют на выборочные средние и выборочные дисперсии.\n",
    "\n",
    "1-й эксперимент: разница между средними всего $1$, однако различия оказались значимы. Можно предположить, что в наблюдениях выбросы отсутствуют, либо они оказывают минимальное влияние на результат. Тогда дисперсии будут действительно низкими, вследствие чего t-статистика могла оказаться высокой, а разница между средними - значимой.\n",
    "\n",
    "2-й эксперимент: разница между средними составляет $19$, но различия - не значимы. Возможно, в наблюдениях присутствуют экстремальные значения (например, в выборке $X_2$ могли оказаться большие по величине наблюдения). Соответственно, дисперсия получается высокой, статистика - низкой, и критерий, как следствие, \"не улавливает\" эту значимую разницу, поскольку разброс даннных может быть слишком великим.\n",
    "\n",
    "**5.** Ранее мы предполагали, что выборки в обоих экспериментах - независимые. Однако из результатов можно *предположить*, что:\n",
    "\n",
    "а) **в первом эксперименте выборки зависимые** (т.е. парные). Вспомним, как выглядит статистика критерий Стьюдента для парных выборок:\n",
    "$$ T = \\frac{\\overline{D} \\sqrt{n-1}}{S_D} $$ \n",
    "\n",
    "Приведем условный пример: $X_1 = \\{16.1, 17, 17, 17, 17.9\\}; \\,\\,\\, X_2 = \\{15, 16, 16, 16, 17\\}$. Тогда разность наблюдений: $D = \\{1.1, 1, 1, 1, 0.9\\}$, выборочное среднее $\\overline{D} = 1$, а выборочное стандартное отклонение разности  $S_D \\approx 0$."
   ]
  },
  {
   "cell_type": "code",
   "execution_count": 34,
   "id": "c71f8fe9-ea7f-467a-962d-0018b2cbf4cd",
   "metadata": {},
   "outputs": [
    {
     "data": {
      "text/plain": [
       "TtestResult(statistic=np.float64(31.62277660168379), pvalue=np.float64(5.960208996599507e-06), df=np.int64(4))"
      ]
     },
     "execution_count": 34,
     "metadata": {},
     "output_type": "execute_result"
    }
   ],
   "source": [
    "d = np.array([1.1, 1, 1, 1, 0.9])\n",
    "stats.ttest_1samp(d, 0)"
   ]
  },
  {
   "cell_type": "markdown",
   "id": "909c3e49-e125-49f6-ba25-fb062328287b",
   "metadata": {},
   "source": [
    "Таким образом, при относительно маленькой разнице средних она может оказаться статистически значимой.\n",
    "\n",
    "б) **во втором эксперименте выборки независимые**. В данном случае используется t-критерий для независимых выборок, который учитывает дисперсии обеих выборок.\n",
    "\n",
    "Условный пример [2]: $X_1 = \\{16.1, 17, 17, 17, 17.9\\} \\,\\, (\\overline{X_1} = 17); \\,\\,\\, X_2 = \\{2, 21, 36, 51, 70\\} \\,\\, (\\overline{X_2} = 36).$"
   ]
  },
  {
   "cell_type": "code",
   "execution_count": 36,
   "id": "c5dc402b-68b6-4038-a4e2-3f47c1b7ef59",
   "metadata": {},
   "outputs": [
    {
     "data": {
      "text/plain": [
       "TtestResult(statistic=np.float64(-1.6163277727124505), pvalue=np.float64(0.1446858562926907), df=np.float64(8.0))"
      ]
     },
     "execution_count": 36,
     "metadata": {},
     "output_type": "execute_result"
    }
   ],
   "source": [
    "x1 = np.array([16.1, 17, 17, 17, 17.9])\n",
    "x2 = np.array([2, 21, 36, 51, 70])\n",
    "stats.ttest_ind(x1, x2)"
   ]
  },
  {
   "cell_type": "markdown",
   "id": "b6d29f87-77a2-4e5e-9af7-0efdaeead3eb",
   "metadata": {},
   "source": [
    "Поскольку пример условный, да, здесь p-value не $0.8$, но все равно выше уровня значимости $0.05$, что говорит о том, что разница между средними значениями статистически не значима. Видно, что дисперсия во второй выборке высокая, что приводит к уменьшению статистики и последующему увеличению p-value."
   ]
  }
 ],
 "metadata": {
  "kernelspec": {
   "display_name": "Python 3 (ipykernel)",
   "language": "python",
   "name": "python3"
  },
  "language_info": {
   "codemirror_mode": {
    "name": "ipython",
    "version": 3
   },
   "file_extension": ".py",
   "mimetype": "text/x-python",
   "name": "python",
   "nbconvert_exporter": "python",
   "pygments_lexer": "ipython3",
   "version": "3.13.0"
  }
 },
 "nbformat": 4,
 "nbformat_minor": 5
}
